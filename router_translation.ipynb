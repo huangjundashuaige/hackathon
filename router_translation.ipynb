{
 "cells": [
  {
   "cell_type": "code",
   "execution_count": 16,
   "metadata": {},
   "outputs": [],
   "source": [
    "from fy import fanyi\n",
    "from functools import reduce"
   ]
  },
  {
   "cell_type": "code",
   "execution_count": 17,
   "metadata": {},
   "outputs": [],
   "source": [
    "def nest_str_array(str1,str2):\n",
    "    str1+=' '\n",
    "    str1+=str2\n",
    "    return str1"
   ]
  },
  {
   "cell_type": "code",
   "execution_count": 37,
   "metadata": {},
   "outputs": [],
   "source": [
    "def translate(be_translated):\n",
    "    string = fanyi(be_translated)\n",
    "    str_array = string.split('\\'')\n",
    "    str_array = reduce(nest_str_array,str_array)\n",
    "    str_array = str_array.split(',')\n",
    "    str_array = reduce(nest_str_array,str_array)\n",
    "    str_array = str_array.split('.')\n",
    "    str_array = reduce(nest_str_array,str_array)\n",
    "    str_array = str_array.split()\n",
    "    filter(lambda x: x!='',str_array)\n",
    "    for index in range(len(str_array)):\n",
    "        str_array[index]=str_array[index].lower()\n",
    "        if(str_array[index] == 'm'):\n",
    "            str_array[index] = 'am'\n",
    "        elif(str_array[index]=='re'):\n",
    "            str_array[index]='are'\n",
    "        elif(str_array[index]=='s'):\n",
    "            str_array[index]='is'\n",
    "    return str_array"
   ]
  },
  {
   "cell_type": "code",
   "execution_count": 38,
   "metadata": {},
   "outputs": [
    {
     "name": "stdout",
     "output_type": "stream",
     "text": [
      "程序开始运行！\n",
      "目标url：https://openapi.youdao.com/api/?q=%E4%BD%A0%E5%A5%BD%E6%88%91%E5%BE%88%E5%A5%BD&from=auto&to=EN&appKey=2f95c2bf54998831&salt=2&sign=4140128209c63e97d672acda7e7f793e\n",
      "-------------------------\n",
      "{'tSpeakUrl': 'http://openapi.youdao.com/ttsapi?q=Hello%2C+I%27m+fine.&langType=en&sign=967B0126A65CD3E7F75E4CA7F2186E6F&salt=1526136238276&voice=4&format=mp3&appKey=2f95c2bf54998831', 'query': '你好我很好', 'translation': [\"Hello, I'm fine.\"], 'errorCode': '0', 'dict': {'url': 'yddict://m.youdao.com/dict?le=eng&q=%E4%BD%A0%E5%A5%BD%E6%88%91%E5%BE%88%E5%A5%BD'}, 'webdict': {'url': 'http://m.youdao.com/dict?le=eng&q=%E4%BD%A0%E5%A5%BD%E6%88%91%E5%BE%88%E5%A5%BD'}, 'l': 'zh-CHS2EN', 'speakUrl': 'http://openapi.youdao.com/ttsapi?q=%E4%BD%A0%E5%A5%BD%E6%88%91%E5%BE%88%E5%A5%BD&langType=zh-CHS&sign=8AC89A19D0B7B32043954A494D93EB4E&salt=1526136238276&voice=4&format=mp3&appKey=2f95c2bf54998831'}\n",
      "Hello, I'm fine.\n",
      "['hello', 'i', 'am', 'fine']\n"
     ]
    }
   ],
   "source": [
    "#print(translate('你好我很好'))"
   ]
  },
  {
   "cell_type": "code",
   "execution_count": null,
   "metadata": {},
   "outputs": [],
   "source": []
  }
 ],
 "metadata": {
  "kernelspec": {
   "display_name": "Python 3",
   "language": "python",
   "name": "python3"
  },
  "language_info": {
   "codemirror_mode": {
    "name": "ipython",
    "version": 3
   },
   "file_extension": ".py",
   "mimetype": "text/x-python",
   "name": "python",
   "nbconvert_exporter": "python",
   "pygments_lexer": "ipython3",
   "version": "3.6.5"
  }
 },
 "nbformat": 4,
 "nbformat_minor": 2
}
