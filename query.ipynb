{
 "cells": [
  {
   "cell_type": "code",
   "execution_count": 13,
   "metadata": {},
   "outputs": [],
   "source": [
    "import numpy\n",
    "from pymongo import MongoClient\n",
    "import pprint\n",
    "import numpy as np\n",
    "from handle_mat_compare import evaluate\n",
    "from string_to_mat import main"
   ]
  },
  {
   "cell_type": "code",
   "execution_count": 14,
   "metadata": {},
   "outputs": [],
   "source": [
    "#client = MongoClient()\n",
    "client = MongoClient('localhost', 27017)\n",
    "db = client.pythondb\n",
    "collection = db.python_collection\n",
    "posts = db.posts\n"
   ]
  },
  {
   "cell_type": "code",
   "execution_count": 21,
   "metadata": {},
   "outputs": [],
   "source": [
    "def find_most__related_sentence(string):\n",
    "    #mat_query = evaluate(string)\n",
    "    temp_post = posts.find()[0]\n",
    "    temp_value = evaluate(main(string),temp_post[\"mat\"])\n",
    "    for post in posts.find():\n",
    "        temp = evaluate(main(string),post[\"mat\"])\n",
    "        if(temp , temp_value):\n",
    "            temp_post = post\n",
    "    return temp_post[\"answear\"]"
   ]
  },
  {
   "cell_type": "code",
   "execution_count": 30,
   "metadata": {},
   "outputs": [
    {
     "data": {
      "text/plain": [
       "'wish you good day'"
      ]
     },
     "execution_count": 30,
     "metadata": {},
     "output_type": "execute_result"
    }
   ],
   "source": [
    "find_most__related_sentence(\"bro\")"
   ]
  },
  {
   "cell_type": "code",
   "execution_count": null,
   "metadata": {},
   "outputs": [],
   "source": []
  }
 ],
 "metadata": {
  "kernelspec": {
   "display_name": "Python 3",
   "language": "python",
   "name": "python3"
  },
  "language_info": {
   "codemirror_mode": {
    "name": "ipython",
    "version": 3
   },
   "file_extension": ".py",
   "mimetype": "text/x-python",
   "name": "python",
   "nbconvert_exporter": "python",
   "pygments_lexer": "ipython3",
   "version": "3.6.5"
  }
 },
 "nbformat": 4,
 "nbformat_minor": 2
}
