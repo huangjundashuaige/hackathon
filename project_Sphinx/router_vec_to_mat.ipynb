{
 "cells": [
  {
   "cell_type": "code",
   "execution_count": 1,
   "metadata": {},
   "outputs": [],
   "source": [
    "import torch\n",
    "import numpy as np\n",
    "from functools import reduce"
   ]
  },
  {
   "cell_type": "code",
   "execution_count": 4,
   "metadata": {},
   "outputs": [],
   "source": [
    "def nest_vector(vec1, vec2):\n",
    "    return np.column_stack((vec1,vec2))"
   ]
  },
  {
   "cell_type": "code",
   "execution_count": 5,
   "metadata": {},
   "outputs": [],
   "source": [
    "def handle_index_list_return_matrix(word_to_ix,model,string):\n",
    "    str_array = string.split()\n",
    "    word_set = set(word_to_ix.keys())\n",
    "    for str in str_array:\n",
    "        if str not in word_set:\n",
    "            str_array[str_array.index(str)] = '<unk>'\n",
    "    #by using <unk> to embed out you dont know what might lead server problem for its large \n",
    "#value affects the final distance of matrix,test embed of <unk>\n",
    "    index_set = [word_to_ix[str] for str in str_array]\n",
    "    embed = model.embeddings\n",
    "    vec_array = [embed(torch.tensor(index)).detach().numpy().reshape(-1,1) for index in index_set]\n",
    "    mat = reduce(nest_vector,vec_array)\n",
    "    return mat"
   ]
  },
  {
   "cell_type": "code",
   "execution_count": null,
   "metadata": {},
   "outputs": [],
   "source": []
  }
 ],
 "metadata": {
  "kernelspec": {
   "display_name": "Python 3",
   "language": "python",
   "name": "python3"
  },
  "language_info": {
   "codemirror_mode": {
    "name": "ipython",
    "version": 3
   },
   "file_extension": ".py",
   "mimetype": "text/x-python",
   "name": "python",
   "nbconvert_exporter": "python",
   "pygments_lexer": "ipython3",
   "version": "3.6.5"
  }
 },
 "nbformat": 4,
 "nbformat_minor": 2
}
