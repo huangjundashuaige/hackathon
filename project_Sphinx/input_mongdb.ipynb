{
 "cells": [
  {
   "cell_type": "code",
   "execution_count": 6,
   "metadata": {},
   "outputs": [],
   "source": [
    "import numpy\n",
    "from pymongo import MongoClient\n",
    "import pprint\n",
    "import numpy as np\n",
    "import string_to_mat\n",
    "#client = MongoClient()\n",
    "client = MongoClient('localhost', 27017)\n",
    "db = client.pythondb\n",
    "collection = db.python_collection\n",
    "posts = db.posts\n",
    "for post in posts.find():\n",
    "    pprint.pprint(post)\n",
    "#while(1):\n",
    "#post_id = posts.del_one(post).inserted_id\n",
    "#print(post_id)"
   ]
  },
  {
   "cell_type": "code",
   "execution_count": 5,
   "metadata": {},
   "outputs": [
    {
     "data": {
      "text/plain": [
       "<pymongo.results.DeleteResult at 0x7f9e1ff72bc8>"
      ]
     },
     "execution_count": 5,
     "metadata": {},
     "output_type": "execute_result"
    }
   ],
   "source": [
    "#be_deleted = posts.find({\"quetion\":\"what is going on,bro\"})\n",
    "posts.delete_one({\"question\":'what is going on,bro'})"
   ]
  },
  {
   "cell_type": "code",
   "execution_count": null,
   "metadata": {},
   "outputs": [],
   "source": []
  }
 ],
 "metadata": {
  "kernelspec": {
   "display_name": "Python 3",
   "language": "python",
   "name": "python3"
  },
  "language_info": {
   "codemirror_mode": {
    "name": "ipython",
    "version": 3
   },
   "file_extension": ".py",
   "mimetype": "text/x-python",
   "name": "python",
   "nbconvert_exporter": "python",
   "pygments_lexer": "ipython3",
   "version": "3.6.5"
  }
 },
 "nbformat": 4,
 "nbformat_minor": 2
}
